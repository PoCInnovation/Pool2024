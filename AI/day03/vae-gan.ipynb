{
 "cells": [
  {
   "cell_type": "code",
   "execution_count": 2,
   "outputs": [],
   "source": [
    "import torch.nn as nn\n",
    "import torch.nn.functional as F\n",
    "import torch"
   ],
   "metadata": {
    "collapsed": false,
    "ExecuteTime": {
     "end_time": "2023-12-19T20:18:13.331690017Z",
     "start_time": "2023-12-19T20:18:12.051598694Z"
    }
   },
   "id": "136968dbe2239c39"
  },
  {
   "cell_type": "code",
   "execution_count": null,
   "outputs": [],
   "source": [
    "device = torch.device(\"cuda:0\" if torch.cuda.is_available() else \"cpu\")"
   ],
   "metadata": {
    "collapsed": false
   },
   "id": "976ec3a19197c1df"
  },
  {
   "cell_type": "code",
   "execution_count": null,
   "outputs": [],
   "source": [
    "def weights_init(m):\n",
    "  classname=m.__class__.__name__\n",
    "  if classname.find('Conv')!=-1:\n",
    "    m.weight.data.normal_(0.0,0.02)\n",
    "  elif classname.find('BatchNorm')!=-1:\n",
    "    m.weight.data.normal_(1.0,0.02)\n",
    "    m.bias.data.fill_(0)"
   ],
   "metadata": {
    "collapsed": false
   },
   "id": "45447b04e9aff631"
  },
  {
   "cell_type": "code",
   "execution_count": 3,
   "id": "initial_id",
   "metadata": {
    "collapsed": true,
    "ExecuteTime": {
     "end_time": "2023-12-19T20:18:13.337531599Z",
     "start_time": "2023-12-19T20:18:13.336445889Z"
    }
   },
   "outputs": [],
   "source": [
    "class Encoder(nn.Module):\n",
    "  def __init__(self):\n",
    "    super(Encoder,self).__init__()\n",
    "    self.conv1=nn.Conv2d(1,64,5,padding=2,stride=2)   #in_channels=3\n",
    "    self.bn1=nn.BatchNorm2d(64,momentum=0.9)\n",
    "    self.conv2=nn.Conv2d(64,128,5,padding=2,stride=2)\n",
    "    self.bn2=nn.BatchNorm2d(128,momentum=0.9)\n",
    "    self.conv3=nn.Conv2d(128,256,5,padding=2,stride=2)\n",
    "    self.bn3=nn.BatchNorm2d(256,momentum=0.9)\n",
    "    self.relu=nn.LeakyReLU(0.2)\n",
    "    self.fc1=nn.Linear(256*8*8,2048)\n",
    "    self.bn4=nn.BatchNorm1d(2048,momentum=0.9)\n",
    "    self.fc_mean=nn.Linear(2048,128)\n",
    "    self.fc_logvar=nn.Linear(2048,128)\n",
    "        \n",
    "  def forward(self,x):\n",
    "    batch_size=x.size()[0]\n",
    "    out=self.relu(self.bn1(self.conv1(x)))\n",
    "    out=self.relu(self.bn2(self.conv2(out)))\n",
    "    out=self.relu(self.bn3(self.conv3(out)))\n",
    "    out=out.view(batch_size,-1)\n",
    "    out=self.relu(self.bn4(self.fc1(out)))\n",
    "    mean=self.fc_mean(out)\n",
    "    logvar=self.fc_logvar(out)\n",
    "      \n",
    "    return mean,logvar"
   ]
  },
  {
   "cell_type": "code",
   "execution_count": null,
   "outputs": [],
   "source": [
    "class Decoder(nn.Module):\n",
    "  def __init__(self):\n",
    "    super(Decoder,self).__init__()\n",
    "    self.fc1=nn.Linear(128,8*8*256)\n",
    "    self.bn1=nn.BatchNorm1d(8*8*256,momentum=0.9)\n",
    "    self.relu=nn.LeakyReLU(0.2)\n",
    "    self.deconv1=nn.ConvTranspose2d(256,256,6, stride=2, padding=2)\n",
    "    self.bn2=nn.BatchNorm2d(256,momentum=0.9)\n",
    "    self.deconv2=nn.ConvTranspose2d(256,128,6, stride=2, padding=2)\n",
    "    self.bn3=nn.BatchNorm2d(128,momentum=0.9)\n",
    "    self.deconv3=nn.ConvTranspose2d(128,32,6, stride=2, padding=2)\n",
    "    self.bn4=nn.BatchNorm2d(32,momentum=0.9)\n",
    "    self.deconv4=nn.ConvTranspose2d(32,1,5, stride=1, padding=2)\n",
    "    self.tanh=nn.Tanh()\n",
    "\n",
    "  def forward(self,x):\n",
    "    batch_size=x.size()[0]\n",
    "    x=self.relu(self.bn1(self.fc1(x)))\n",
    "    x=x.view(-1,256,8,8)\n",
    "    x=self.relu(self.bn2(self.deconv1(x)))\n",
    "    x=self.relu(self.bn3(self.deconv2(x)))\n",
    "    x=self.relu(self.bn4(self.deconv3(x)))\n",
    "    x=self.tanh(self.deconv4(x))\n",
    "    return x"
   ],
   "metadata": {
    "collapsed": false
   },
   "id": "d35fdc535bf57939"
  },
  {
   "cell_type": "code",
   "execution_count": null,
   "outputs": [],
   "source": [
    "class Discriminator(nn.Module):\n",
    "  def __init__(self):\n",
    "    super(Discriminator,self).__init__()\n",
    "    self.conv1=nn.Conv2d(1,32,5,padding=2,stride=1)\n",
    "    self.relu=nn.LeakyReLU(0.2)\n",
    "    self.conv2=nn.Conv2d(32,128,5,padding=2,stride=2)\n",
    "    self.bn1=nn.BatchNorm2d(128,momentum=0.9)\n",
    "    self.conv3=nn.Conv2d(128,256,5,padding=2,stride=2)\n",
    "    self.bn2=nn.BatchNorm2d(256,momentum=0.9)\n",
    "    self.conv4=nn.Conv2d(256,256,5,padding=2,stride=2)\n",
    "    self.bn3=nn.BatchNorm2d(256,momentum=0.9)\n",
    "    self.fc1=nn.Linear(8*8*256,512)\n",
    "    self.bn4=nn.BatchNorm1d(512,momentum=0.9)\n",
    "    self.fc2=nn.Linear(512,1)\n",
    "    self.sigmoid=nn.Sigmoid()\n",
    "\n",
    "  def forward(self,x):\n",
    "    batch_size=x.size()[0]\n",
    "    x=self.relu(self.conv1(x))\n",
    "    x=self.relu(self.bn1(self.conv2(x)))\n",
    "    x=self.relu(self.bn2(self.conv3(x)))\n",
    "    x=self.relu(self.bn3(self.conv4(x)))\n",
    "    x=x.view(-1,256*8*8)\n",
    "    x1=x\n",
    "    x=self.relu(self.bn4(self.fc1(x)))\n",
    "    x=self.sigmoid(self.fc2(x))\n",
    "      \n",
    "    return x,x1"
   ],
   "metadata": {
    "collapsed": false
   },
   "id": "9ad8fb6e9480af99"
  },
  {
   "cell_type": "code",
   "execution_count": null,
   "outputs": [],
   "source": [
    "class VAE_GAN(nn.Module):\n",
    "  def __init__(self):\n",
    "    super(VAE_GAN,self).__init__()\n",
    "    self.encoder=Encoder()\n",
    "    self.decoder=Decoder()\n",
    "    self.discriminator=Discriminator()\n",
    "    self.encoder.apply(weights_init)\n",
    "    self.decoder.apply(weights_init)\n",
    "    self.discriminator.apply(weights_init)\n",
    "\n",
    "\n",
    "  def forward(self,x):\n",
    "    bs=x.size()[0]\n",
    "    z_mean,z_logvar=self.encoder(x)\n",
    "    std = z_logvar.mul(0.5).exp_()\n",
    "        \n",
    "    #sampling epsilon from normal distribution\n",
    "    epsilon=Variable(torch.randn(bs,128)).to(device)\n",
    "    z=z_mean+std*epsilon\n",
    "    x_tilda=self.decoder(z)\n",
    "      \n",
    "    return z_mean,z_logvar,x_tilda"
   ],
   "metadata": {
    "collapsed": false
   },
   "id": "721952d786234e03"
  },
  {
   "cell_type": "code",
   "execution_count": null,
   "outputs": [],
   "source": [],
   "metadata": {
    "collapsed": false
   },
   "id": "6d236890fa54fa85"
  }
 ],
 "metadata": {
  "kernelspec": {
   "display_name": "Python 3",
   "language": "python",
   "name": "python3"
  },
  "language_info": {
   "codemirror_mode": {
    "name": "ipython",
    "version": 2
   },
   "file_extension": ".py",
   "mimetype": "text/x-python",
   "name": "python",
   "nbconvert_exporter": "python",
   "pygments_lexer": "ipython2",
   "version": "2.7.6"
  }
 },
 "nbformat": 4,
 "nbformat_minor": 5
}
