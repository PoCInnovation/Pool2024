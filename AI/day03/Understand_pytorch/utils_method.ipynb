{
 "cells": [
  {
   "cell_type": "code",
   "execution_count": null,
   "outputs": [],
   "source": [
    "import torch as t"
   ],
   "metadata": {
    "collapsed": false
   },
   "id": "eb2624afca073dab"
  },
  {
   "cell_type": "code",
   "execution_count": null,
   "id": "initial_id",
   "metadata": {
    "collapsed": true
   },
   "outputs": [],
   "source": [
    "def conv2d_minimal(x : t.Tensor, weights : t.Tensor) -> t.Tensor:\n",
    "    # Get the dimensions of the input and the weights\n",
    "    batch_size, channels, height, width = x.shape\n",
    "    _, _, kernel_height, kernel_width = weights.shape\n",
    "\n",
    "    # Get the padding\n",
    "    padding_height = kernel_height // 2\n",
    "    padding_width = kernel_width // 2\n",
    "\n",
    "    # Pad the input\n",
    "    x = t.nn.functional.pad(x, (padding_width, padding_width, padding_height, padding_height))\n",
    "\n",
    "    # Get the output dimensions\n",
    "    output_height = height\n",
    "    output_width = width\n",
    "\n",
    "    # Initialize the output\n",
    "    output = t.zeros((batch_size, channels, output_height, output_width))\n",
    "\n",
    "    # Iterate over the output pixels\n",
    "    for i in range(output_height):\n",
    "        for j in range(output_width):\n",
    "            # Get the current pixel\n",
    "            current_pixel = x[:, :, i:i + kernel_height, j:j + kernel_width]\n",
    "\n",
    "            # Compute the convolution\n",
    "            output[:, :, i, j] = (current_pixel * weights).sum(dim=(1, 2, 3))\n",
    "\n",
    "    return output"
   ]
  }
 ],
 "metadata": {
  "kernelspec": {
   "display_name": "Python 3",
   "language": "python",
   "name": "python3"
  },
  "language_info": {
   "codemirror_mode": {
    "name": "ipython",
    "version": 2
   },
   "file_extension": ".py",
   "mimetype": "text/x-python",
   "name": "python",
   "nbconvert_exporter": "python",
   "pygments_lexer": "ipython2",
   "version": "2.7.6"
  }
 },
 "nbformat": 4,
 "nbformat_minor": 5
}
