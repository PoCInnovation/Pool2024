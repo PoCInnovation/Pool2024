{
 "cells": [
  {
   "cell_type": "code",
   "execution_count": null,
   "metadata": {},
   "outputs": [],
   "source": [
    "import numpy as np\n",
    "import matplotlib.pyplot as plt\n",
    "from typing import Tuple\n",
    "from torch import nn\n",
    "import torch\n",
    "from tqdm import tqdm"
   ]
  },
  {
   "cell_type": "markdown",
   "metadata": {},
   "source": [
    "# ~ PoC AI Pool 2024 ~\n",
    "- ## Day 2: Neural Networks from Scratch\n",
    "    - ### Module 2: Logistic Regression\n",
    "-----------"
   ]
  },
  {
   "cell_type": "code",
   "execution_count": null,
   "metadata": {},
   "outputs": [],
   "source": [
    "x = (np.random.rand(1_000) * 10).round()\n",
    "y = x % 2 == 0\n",
    "x = torch.tensor(x, dtype=torch.float32)\n",
    "y = torch.tensor(y, dtype=torch.float32)"
   ]
  },
  {
   "cell_type": "code",
   "execution_count": null,
   "metadata": {},
   "outputs": [],
   "source": [
    "class NeuralNetwork(nn.Module):\n",
    "    def __init__(self):\n",
    "        super().__init__()\n",
    "        self.fc1 = nn.Linear(1000, 1000)\n",
    "\n",
    "    def forward(self, x):\n",
    "        x = self.fc1(x)\n",
    "        x = nn.functional.sigmoid(x)\n",
    "        return x\n",
    "    \n",
    "model = NeuralNetwork()\n",
    "optimizer = torch.optim.SGD(model.parameters(), 0.1)\n",
    "loss_fn = nn.BCELoss()"
   ]
  },
  {
   "cell_type": "code",
   "execution_count": null,
   "metadata": {},
   "outputs": [],
   "source": [
    "for e in range(10):\n",
    "    optimizer.zero_grad()\n",
    "    y_pred = model.forward(x)\n",
    "    loss = loss_fn(y_pred, y)\n",
    "    loss.backward()\n",
    "    optimizer.step()"
   ]
  },
  {
   "cell_type": "code",
   "execution_count": null,
   "metadata": {},
   "outputs": [],
   "source": [
    "pred = model(x)\n",
    "\n",
    "(pred.round() == y).sum()"
   ]
  },
  {
   "cell_type": "code",
   "execution_count": null,
   "metadata": {},
   "outputs": [],
   "source": [
    "EPOCH = 100\n",
    "x_train = (np.random.rand(1_000) * 10).round().reshape(1,-1)\n",
    "y_train = np.array(x % 2 == 0, dtype=np.int32)"
   ]
  },
  {
   "cell_type": "code",
   "execution_count": null,
   "metadata": {},
   "outputs": [],
   "source": [
    "global_preds = []\n",
    "loss_history = []\n",
    "\n",
    "w = np.random.rand()\n",
    "b = np.random.rand()\n",
    "\n",
    "N = len(x_train)\n",
    "LR = 0.0005\n",
    "\n",
    "w,b"
   ]
  },
  {
   "cell_type": "code",
   "execution_count": null,
   "metadata": {},
   "outputs": [],
   "source": [
    "def forward(x: np.array) -> np.array:\n",
    "    x = x * w + b\n",
    "    if x >= 0:\n",
    "        return 1 / (1 + np.exp(-x))\n",
    "    else:\n",
    "        return np.exp(x) / 1 + np.exp(x)\n",
    "\n",
    "\n",
    "for e in tqdm(range(EPOCH)):\n",
    "    dl_dw = 0.0\n",
    "    dl_db = 0.0\n",
    "\n",
    "    for x, y in zip(x_train, y_train):\n",
    "        # Prediction\n",
    "        pred = forward(x).round()\n",
    "\n",
    "        # Gradient descent\n",
    "        dl_dw += (forward(x) - y) * x\n",
    "        dl_db += forward(x) - y\n",
    "\n",
    "    # Getting the average values\n",
    "    dl_dw *= 1 / N\n",
    "    dl_db *= 1 / N\n",
    "\n",
    "    # Optimization\n",
    "    w = w - LR * dl_dw\n",
    "    b = b - LR * dl_db\n",
    "\n",
    "    # Logging loss\n",
    "    total_error = 0.0\n",
    "    for i in range(N):\n",
    "        total_error += y_train[i] * np.log(forward(x_train[i])) + (\n",
    "            1 - y_train[i]\n",
    "        ) * np.log(forward(x_train[i]))\n",
    "    loss_history.append(total_error / N)\n",
    "\n",
    "\n",
    "plt.plot(loss_history)"
   ]
  },
  {
   "cell_type": "code",
   "execution_count": null,
   "metadata": {},
   "outputs": [],
   "source": [
    "preds = []\n",
    "\n",
    "for x, y in zip(x_train, y_train):\n",
    "    print(x, y, forward(x))\n",
    "    preds.append(round(forward(x)))\n",
    "\n",
    "print(f\"{np.average(preds == y_train)*100:.2f}%\")"
   ]
  },
  {
   "cell_type": "code",
   "execution_count": null,
   "metadata": {},
   "outputs": [],
   "source": []
  }
 ],
 "metadata": {
  "kernelspec": {
   "display_name": "pool24",
   "language": "python",
   "name": "python3"
  },
  "language_info": {
   "codemirror_mode": {
    "name": "ipython",
    "version": 3
   },
   "file_extension": ".py",
   "mimetype": "text/x-python",
   "name": "python",
   "nbconvert_exporter": "python",
   "pygments_lexer": "ipython3",
   "version": "3.11.5"
  }
 },
 "nbformat": 4,
 "nbformat_minor": 2
}
