{
 "cells": [
  {
   "cell_type": "markdown",
   "metadata": {},
   "source": [
    "![Python3](./images/python.jpg)\n",
    "\n",
    "# Python\n",
    "\n",
    "During this first preliminary activity, you will learn the basics of Python.\\\n",
    "Python is vast and we will only look at the most important notions of the language.\\\n",
    "Therefore, it is more than likely that during this week, you will observe a notion that is not present in this activity.\\\n",
    "In which case you will have to look for the solution yourself.\n",
    "\n",
    "[Python Documentation](https://docs.python.org/3/)"
   ]
  },
  {
   "cell_type": "markdown",
   "source": [
    "## Introduction\n",
    "\n",
    "Python is a high-level, interpreted, interactive and object-oriented scripting language. Python is designed to be highly readable.\n",
    "It uses English keywords frequently where as other languages use punctuation, and it has fewer syntactical constructions than other languages.\n",
    "Here are some of the most important features of Python:"
   ],
   "metadata": {
    "collapsed": false
   }
  },
  {
   "cell_type": "markdown",
   "source": [
    "## Types\n",
    "\n",
    "How to manage the types in python is a bit different than in other languages like C or Java for example:"
   ],
   "metadata": {
    "collapsed": false
   }
  },
  {
   "cell_type": "code",
   "execution_count": null,
   "outputs": [],
   "source": [
    "# First you don't need to declare variables or function before using them\n",
    "# Python is dynamically typed, so you don't need to specify the type of variable\n",
    "\n",
    "my_var = 1 # my_var is an integer\n",
    "print(my_var, type(my_var), end='\\n')\n",
    "\n",
    "my_var = 1.0 # my_var is now a float\n",
    "print(my_var, type(my_var), end='\\n')\n",
    "\n",
    "my_var = \"Hello world\" # my_var is now a string\n",
    "print(my_var, type(my_var), end='\\n')\n",
    "\n",
    "my_var = [1, 2, 3] # my_var is now a list\n",
    "print(my_var, type(my_var), end='\\n')"
   ],
   "metadata": {
    "collapsed": false
   }
  },
  {
   "cell_type": "markdown",
   "source": [
    "To declare a function you just need to use the keyword def"
   ],
   "metadata": {
    "collapsed": false
   }
  },
  {
   "cell_type": "code",
   "execution_count": null,
   "outputs": [],
   "source": [
    "def my_func():\n",
    "    print(\"Hello world\")\n",
    "my_func() # you can put in comment this line to see the difference"
   ],
   "metadata": {
    "collapsed": false
   }
  },
  {
   "cell_type": "markdown",
   "source": [
    "You can also force the type of a variable.\n",
    "And in a function you can force a variable to have value if not call in a function and force the return type of that function"
   ],
   "metadata": {
    "collapsed": false
   }
  },
  {
   "cell_type": "code",
   "execution_count": null,
   "outputs": [],
   "source": [
    "def my_func2(repetition, end_sentence, string : str = \"Hello world\\n\", show_a_new_mechanic=0) -> str:\n",
    "    result = \"\"\n",
    "    for i in range(repetition):\n",
    "        result += (string)\n",
    "    result += end_sentence\n",
    "    print(show_a_new_mechanic)\n",
    "    return result"
   ],
   "metadata": {
    "collapsed": false
   }
  },
  {
   "cell_type": "markdown",
   "source": [
    "Now we will see a bit all things who can happen with a that kind of function"
   ],
   "metadata": {
    "collapsed": false
   }
  },
  {
   "cell_type": "code",
   "execution_count": null,
   "outputs": [],
   "source": [
    "print(my_func2(2, \"end\",show_a_new_mechanic=\"You are doing great !\")) # You can call a varrialbe by his name"
   ],
   "metadata": {
    "collapsed": false
   }
  },
  {
   "cell_type": "code",
   "execution_count": null,
   "outputs": [],
   "source": [
    "print(my_func2(2, \"end\", \"You are uncredible\\n\", 1)) # You don't need if you don't want to, but you need to respect the order"
   ],
   "metadata": {
    "collapsed": false
   }
  },
  {
   "cell_type": "code",
   "execution_count": null,
   "outputs": [],
   "source": [
    "print(my_func2(2, \"end\")) # You can also call just the necessary variable"
   ],
   "metadata": {
    "collapsed": false
   }
  },
  {
   "cell_type": "code",
   "execution_count": null,
   "outputs": [],
   "source": [
    "print(my_func2(\"That will be an error, it's important to give a type\", \"end\")) # The error is here because the first variable should be an integer"
   ],
   "metadata": {
    "collapsed": false
   }
  },
  {
   "cell_type": "code",
   "execution_count": null,
   "outputs": [],
   "source": [
    "print(my_func2(2, \"end\", 1)) # The error is here because the third variable should be a string"
   ],
   "metadata": {
    "collapsed": false
   }
  },
  {
   "cell_type": "code",
   "execution_count": null,
   "outputs": [],
   "source": [
    "print(my_func2(0, 3)) # The error is here because the return type should be a string"
   ],
   "metadata": {
    "collapsed": false
   }
  },
  {
   "cell_type": "markdown",
   "metadata": {},
   "source": [
    "## Strings\n",
    "\n",
    "In Python, strings are arrays containing smaller strings which represent characters.\n",
    "\n",
    "For example, by using the `type()` method we learned about earlier, you'll notice that `\"apple\"` and `'a'` are both of the same data type:\n",
    "\n",
    "> In Jupyter Notebooks, you can run each cell of code by clicking the ▶️ button or by pressing `SHIFT+ENTER` on your keyboard."
   ]
  },
  {
   "cell_type": "code",
   "execution_count": null,
   "metadata": {
    "pycharm": {
     "is_executing": true
    }
   },
   "outputs": [],
   "source": [
    "this_is_a_string = \"apple\"\n",
    "\n",
    "type(this_is_a_string)"
   ]
  },
  {
   "cell_type": "code",
   "execution_count": null,
   "metadata": {
    "pycharm": {
     "is_executing": true
    }
   },
   "outputs": [],
   "source": [
    "this_is_also_a_string = this_is_a_string[0]\n",
    "\n",
    "type(this_is_also_a_string)"
   ]
  },
  {
   "cell_type": "markdown",
   "metadata": {},
   "source": [
    "> As you can see, the output of `type()` is displayed beneath the cell.\n",
    "> However, if you had both `type()` calls in the same cell, it would only display the last one so you would need to use `print()` if you wish to avoid creating multiple Jupyter cells."
   ]
  },
  {
   "cell_type": "markdown",
   "metadata": {},
   "source": [
    "### Conditions and loops \n",
    "Because strings are arrays, multiple operations can be applied to them, like looping !\n",
    "\n",
    "```py\n",
    "string = \"hello world\"\n",
    "\n",
    "for i in range(len(string)):\n",
    "    print(string[i])\n",
    "```\n",
    "\n",
    "```py\n",
    "for character in string:\n",
    "    print(character)\n",
    "```\n",
    "\n",
    "These two blocks of code achieve the same result but they do so by different means.\n",
    "\n",
    "In the first example, we use an **iterable object** (we will learn how to make our own later) called `range` which contains an iterable from the provided arguments which we can use for our loop. Here, we provide the `len`gth of our `string` so range returns an iterable the size of `len`.\n",
    "\n",
    "In the second example, we pick each value from the `string` array inside a variable we chose to name `character` and then print it. You can do the same with any array."
   ]
  },
  {
   "cell_type": "code",
   "execution_count": null,
   "metadata": {
    "pycharm": {
     "is_executing": true
    }
   },
   "outputs": [],
   "source": [
    "my_range =  range(len(\"Hello world\"))\n",
    "print(type(my_range), my_range, sep='\\n')\n",
    "print(type(iter(my_range)), iter(my_range), sep='\\n')"
   ]
  },
  {
   "cell_type": "markdown",
   "metadata": {},
   "source": [
    "Now, let's say you want to print the \"Hello world\" string but you only want a new line when there is a space between the two words:\n",
    "\n",
    "```\n",
    "Hello\n",
    "world\n",
    "```\n",
    "\n",
    "You can use an `if else` statement:"
   ]
  },
  {
   "cell_type": "code",
   "execution_count": null,
   "metadata": {},
   "outputs": [],
   "source": [
    "string = 'hello world'\n",
    "\n",
    "for c in string:\n",
    "    if c == ' ': # no need for (parantheses) in python\n",
    "        print() # the print() method prints a new line by default\n",
    "    else:\n",
    "        print(c, end='') # thankfully, you can overwrite the 'end' argument"
   ]
  },
  {
   "cell_type": "markdown",
   "metadata": {},
   "source": [
    "## Practice: Fizzbuzz\n",
    "\n",
    "This wouldn't be a pool if we only showed you cool stuff so it's time for you to use what you've learned so far to code the `Fizzbuzz` algorithm in Python.\n",
    "\n",
    "**Exercice :**\n",
    "\n",
    "Display the numbers **from 1 to nb_iterations** with a **for** loop.\\\n",
    "If a number is a **multiples of 3**, write **\"Fizz\" instead of the number.**\\\n",
    "If a number is a **multiples of 5**, write **\"Buzz\" instead of the number.**\\\n",
    "If a number is a **multiple of both 3 and 5**, write **\"FizzBuzz\" instead of the number.**\n",
    "\n",
    "You must follow the **diagram** :\n",
    "\n",
    "![schema](./images/diagramme.png)"
   ]
  },
  {
   "cell_type": "code",
   "execution_count": null,
   "metadata": {},
   "outputs": [],
   "source": [
    "### enter your code here:\n",
    "\n",
    "\n",
    "\n",
    "\n",
    "\n",
    "\n",
    "\n",
    "###"
   ]
  },
  {
   "cell_type": "markdown",
   "metadata": {},
   "source": [
    "## Lists, tuples, sets and dictionaries"
   ]
  },
  {
   "cell_type": "markdown",
   "metadata": {},
   "source": [
    "There are four different built-in data types which are used to store groups of data in Python, they are Lists, Tuples, Sets and Dictionaries.\n",
    "\n",
    "|                   |List |Tuple |Set|Dictionary\n",
    "|-------------------|-----|------|---|---------|\n",
    "|`new_instance =`           |`[]` or `list()`|`()` or `tuple()`|`set()`|`{}` or `dict()`|\n",
    "|Mutable            |✅|❌|✅|✅\n",
    "|Ordered            |✅|✅|❌|✅\n",
    "|Allows duplicates  |✅|✅|❌|❌"
   ]
  },
  {
   "cell_type": "markdown",
   "metadata": {},
   "source": [
    "We've made a series of operations to each of these data types, analyse each of these cells to see what operations were made and why each result "
   ]
  },
  {
   "cell_type": "code",
   "execution_count": null,
   "metadata": {},
   "outputs": [],
   "source": [
    "my_list = list()\n",
    "my_list.append(1) ## adding '1' to our list\n",
    "my_list.append(1) ## adding '1' again to our list\n",
    "my_list.append(2) ## adding '2' to our list\n",
    "my_list.pop() ## removing the last element from our list\n",
    "\n",
    "my_list"
   ]
  },
  {
   "cell_type": "markdown",
   "metadata": {},
   "source": [
    "> You can also provide an index to `pop()` in order to remove a value at a certain index"
   ]
  },
  {
   "cell_type": "code",
   "execution_count": null,
   "metadata": {},
   "outputs": [],
   "source": [
    "my_tuple = tuple(my_list) # once a tuple is defined, you can no longer modify its contents\n",
    "\n",
    "my_tuple"
   ]
  },
  {
   "cell_type": "code",
   "execution_count": null,
   "metadata": {},
   "outputs": [],
   "source": [
    "my_set = set()\n",
    "my_set.add(1) # adding '1' to our set\n",
    "my_set.add(1) # adding '1' again to our set\n",
    "my_set.add(2) # adding '2' to our set\n",
    "my_set.remove(2) # removing the last element from our list (since sets are unordered, we remove '2' manually because we know it is the last element we added)\n",
    "\n",
    "my_set"
   ]
  },
  {
   "cell_type": "code",
   "execution_count": null,
   "metadata": {},
   "outputs": [],
   "source": [
    "my_dict = dict()\n",
    "my_dict[1] = \"one\" # adding '1' to our dictionary\n",
    "my_dict[1] = \"ONE\" # adding '1' again to our dictionary (we also changed its value)\n",
    "my_dict[2] = \"two\" # adding '2' to our dictionary\n",
    "my_dict.popitem() # removing the last element from our list\n",
    "\n",
    "my_dict"
   ]
  },
  {
   "cell_type": "markdown",
   "metadata": {},
   "source": [
    "Although dictionaries are ordered since python version 3.7, `popitem()` might not be the most useful method when dealing with dictionaries, so keep in mind that you can delete any dictionary entry by using `del my_dict[key]`:\n",
    "\n",
    "```py\n",
    "my_dict = {}\n",
    "my_dict[\"apple\"] = \"red\"\n",
    "my_dict[\"banana\"] = \"yellow\"\n",
    "\n",
    "del my_dict[\"apple\"] ## this will delete the \"apple\" key\n",
    "```\n"
   ]
  },
  {
   "cell_type": "markdown",
   "metadata": {},
   "source": [
    "## Practice: Occurences in sentence\n",
    "\n",
    "With all of this, you should be able to create a dictionary containing the amount of times each character makes an appearance inside a given string.\n",
    "\n",
    "For example, with \"Hello world\", your dictionary should be:\n",
    "\n",
    "```\n",
    "{\n",
    "    \"h\": 1,\n",
    "    \"e\": 1,\n",
    "    \"l\": 3,\n",
    "    \"o\": 2,\n",
    "    \" \": 1,\n",
    "    \"w\": 1,\n",
    "    \"r\": 1,\n",
    "    \"d\": 1,\n",
    "}\n",
    "```"
   ]
  },
  {
   "cell_type": "code",
   "execution_count": null,
   "metadata": {},
   "outputs": [],
   "source": [
    "sentence = \"By using what you've learned about dictionaries, this exercise should not be too difficult. Good luck !\"\n",
    "\n",
    "# Enter your code here\n",
    "\n",
    "\n",
    "\n",
    "\n",
    "\n",
    "#"
   ]
  },
  {
   "cell_type": "markdown",
   "metadata": {},
   "source": [
    "## Functions & Classes\n",
    "\n"
   ]
  },
  {
   "cell_type": "markdown",
   "metadata": {},
   "source": [
    "Before heading any further, you might want to know how to make a function (also called method) in Python.\n",
    "\n",
    "It's as simple as this:\n",
    "\n",
    "```py\n",
    "def myFunc(arg1, arg2): # as Python is dynamically typed, there is no need to specify argument types\n",
    "    my_code = arg1 + arg2\n",
    "    return my_code # you can also return multiple values if you want: simply seperate them using commas\n",
    "```\n",
    "myFunc(1, 2) # For calling the method"
   ]
  },
  {
   "cell_type": "markdown",
   "metadata": {},
   "source": [
    "Why don't you try wrapping your occurence counter exercise from before inside a method ?"
   ]
  },
  {
   "cell_type": "code",
   "execution_count": null,
   "metadata": {},
   "outputs": [],
   "source": [
    "def occurenceCounter(sentence):\n",
    "    \"\"\" \n",
    "    Copy paste your code here and make the necessary adjustments\n",
    "    \"\"\"\n",
    "    my_dict = {}\n",
    "\n",
    "\n",
    "    return my_dict\n",
    "\n",
    "occurenceCounter(\"Wow, making functions is really easy in Python !\")"
   ]
  },
  {
   "cell_type": "markdown",
   "metadata": {},
   "source": [
    "Classes is what we call **Object Oriented Programming** (OOP) and is essential in a vast number of languages.\n",
    "To vulgarize, classes are sort of mold used to create **object**. Once you've the molds, you can create as many objects of the same type as you want. This is used in every import you do, any functions from libraries are **methods** from classes.\n",
    "Their names are often written with a uppercase at the beginning. \n",
    "\n",
    "If you want to get deeper in this notion,\\\n",
    "I highly recommend you to search on Internet. It's a well explained subject.\\\n",
    "[Python classes doc](https://docs.python.org/3/tutorial/classes.html)\n",
    "\n",
    "**Example :**\\\n",
    "Here is an example of a class, to help understand here are some remarks on the code :\n",
    "\n",
    "- variables that start with __ are called private\n",
    "- the method \\_\\_init__ is the constructor, it is called at the instanciation of the object.\n",
    "- the method \\_\\_str__ is a method that describes the object."
   ]
  },
  {
   "cell_type": "code",
   "execution_count": null,
   "metadata": {},
   "outputs": [],
   "source": [
    "class MyClass:\n",
    "    '''This is my first class in Python'''\n",
    "    def __init__(self, name, firstname, fav_color, fav_digit):\n",
    "        self.name = name\n",
    "        self.firstname = firstname\n",
    "        self.setFavColor(fav_color)\n",
    "        self.setFavDigit(fav_digit)\n",
    "        \n",
    "    def __str__(self):\n",
    "        return f'Your name is {self.firstname} {self.name}, your favorite color is {self.getFavColor()} and your favorite number is {self.getFavDigit()}'\n",
    "        \n",
    "    def setFavColor(self, fav_color):\n",
    "        color = [\"red\", \"blue\", \"purple\", \"green\", \"yellow\", \"orange\", \"white\", \"black\", \"pink\", \"brown\"]\n",
    "        if fav_color in color:\n",
    "            self.__fav_color = fav_color\n",
    "        else:\n",
    "            self.__fav_color = None\n",
    "        \n",
    "    def setFavDigit(self, fav_digit):\n",
    "        if isinstance(fav_digit, int) and -1 < fav_digit < 10:\n",
    "            self.__fav_digit = fav_digit\n",
    "        else:\n",
    "            self.__fav_digit = None\n",
    "        \n",
    "    def getFavDigit(self):\n",
    "        return self.__fav_digit    \n",
    "     \n",
    "    def getFavColor(self):\n",
    "        return self.__fav_color    \n",
    "    \n",
    "robot = MyClass(\"Robot\", \"PoC\", \"red\", 5)\n",
    "print(robot)"
   ]
  },
  {
   "cell_type": "markdown",
   "metadata": {},
   "source": [
    "**Exercice :**\\\n",
    "Create a ```Calculator``` class.\n",
    "\n",
    "It will take as initialization parameter a ```name``` value.\\\n",
    "it will have the methods ```add```, ```sub```, ```mul```, ```div```, ```modulo``` which will take two parameters ```x``` and ```y``` and will return the result of the operation corresponding to the name of each method between x and y.\\\n",
    "Create a method ```__str__``` that will return ```Hello my name is {name}.```"
   ]
  },
  {
   "cell_type": "code",
   "execution_count": null,
   "metadata": {},
   "outputs": [],
   "source": [
    "# Create your Calculator class here\n",
    "\n",
    "class Calculator:\n",
    "    pass\n",
    "\n",
    "#\n",
    "\n",
    "\n",
    "my_calc = Calculator(\"PoC\")\n",
    "print(my_calc)\n",
    "print(my_calc.add(1, 2))\n",
    "print(my_calc.mul(1, 2))\n",
    "print(my_calc.sub(1, 2))\n",
    "print(my_calc.div(1, 2))\n",
    "print(my_calc.modulo(1, 2))"
   ]
  },
  {
   "cell_type": "markdown",
   "metadata": {},
   "source": [
    "What if you now wanted to create a new Class which reuses the methods inside the Calculator class ?"
   ]
  },
  {
   "cell_type": "code",
   "execution_count": null,
   "metadata": {},
   "outputs": [],
   "source": [
    "class SuperCalculator(Calculator):\n",
    "    def __init__(self, name):\n",
    "        super().__init__(name) # the super() keyword inherits all the parameters of the parent class...\n",
    "\n",
    "    def square(self, x):\n",
    "        return self.mul(x, x) # ...which allows you to call its methods inside SuperCalculator\n",
    "\n",
    "my_super_calc = SuperCalculator(\"Hello world\")\n",
    "\n",
    "my_super_calc.square(3)"
   ]
  },
  {
   "cell_type": "markdown",
   "metadata": {},
   "source": [
    "## Anonymous Function\n",
    "\n",
    "### 📖 A bit of history...\n",
    "\n",
    "Python 1.0 introduced functional programming tools such as `lambda`, `map`, and `filter` (the latter two will be covered together in the next section, cf: \"Array methods\"). These features were added by a Python user who found that the language was incomplete without them.\n",
    "\n",
    "### The λ lambda function\n",
    "\n",
    "One of these features, the lambda function provides Python developers the ability to use anonymous functions:"
   ]
  },
  {
   "cell_type": "code",
   "execution_count": null,
   "metadata": {},
   "outputs": [],
   "source": [
    "hello_world = lambda: print(\"hello, world\") ### simply define the function after 'lambda:'\n",
    "\n",
    "hello_world()"
   ]
  },
  {
   "cell_type": "code",
   "execution_count": null,
   "metadata": {},
   "outputs": [],
   "source": [
    "square = lambda x: x ** 2 ### you can provide arguments to lambda (you can call `x` whatever you want)\n",
    "\n",
    "square(5)"
   ]
  },
  {
   "cell_type": "code",
   "execution_count": null,
   "metadata": {},
   "outputs": [],
   "source": [
    "add = lambda a, b: a + b ### you can give lambda as many arguments as you want\n",
    "\n",
    "add(2, 3)"
   ]
  },
  {
   "cell_type": "markdown",
   "metadata": {},
   "source": [
    "### List comprehensions\n",
    "\n",
    "Similarly to lambda functions, you can replace `for loops` with **list comprehensions** to quickly apply a function to any list:"
   ]
  },
  {
   "cell_type": "code",
   "execution_count": null,
   "metadata": {},
   "outputs": [],
   "source": [
    "my_array = [1, 2, 3, 4, 5, 6]\n",
    "\n",
    "[x * 10 for x in my_array] # again, you can call `x` whatever you want"
   ]
  },
  {
   "cell_type": "markdown",
   "metadata": {},
   "source": [
    "## Array methods\n",
    "\n",
    "Lambda is very powerful when used with some awesome methods in python for dealing with arrays that every person learning Python should be familiar with !\n",
    "\n",
    "In this section we'll introduce \n",
    "- `map()`, for **map**ping through an array and transforming all of its values at once\n",
    "- `filter()`, for **filter**ing an array's values, allowing you to keep only values which match a condition\n",
    "\n",
    "They both take a function as first argument and an array as the second argument, so you can use `lambda` functions directly !"
   ]
  },
  {
   "cell_type": "markdown",
   "metadata": {},
   "source": [
    "> Try and implement `map()` and `filter()` in the below cell:\\\n",
    "> You should use `lambda` to make your life easier"
   ]
  },
  {
   "cell_type": "code",
   "execution_count": null,
   "metadata": {},
   "outputs": [],
   "source": [
    "my_array = [\"Mapping's\", \"actually\", \"powerful\"]\n",
    "\n",
    "my_mapped_array = None ## use+ to transform my_array into an array containing only the first letter of each word\n",
    "print(list(my_mapped_array))\n",
    "\n",
    "my_array = [1, 2, 3, 4, 5, 6]\n",
    "\n",
    "my_filtered_array = None ## use filter to keep only the even numbers inside my_array\n",
    "\n",
    "print(list(my_filtered_array))"
   ]
  },
  {
   "cell_type": "markdown",
   "metadata": {},
   "source": [
    "## Try, except, raise, assert: **Error Handling in Python**\n",
    "\n",
    "If you attempted to call the methods before defining them inside the Class, you might've run into some errors, like for example:\n",
    "\n",
    "```\n",
    "AttributeError: 'Calculator' object has no attribute 'add'\n",
    "```\n",
    "\n",
    "There is a way for you to handle such errors in Python !\n",
    "\n",
    "> For this section, we *will* be dealing with errors, so don't worry if you see a lot of red outputs in your notebook, this is the only place where it will mean the code is executing properly :)"
   ]
  },
  {
   "cell_type": "code",
   "execution_count": null,
   "metadata": {},
   "outputs": [],
   "source": [
    "def try_division(number1, number2):\n",
    "    try: ## we make an attempt to run the code\n",
    "        ans = my_calc.div(number1, number2)\n",
    "    except ZeroDivisionError: # if the code encounters a ZeroDivsionError error\n",
    "        print(\"You cannot divide a number by zero !\")\n",
    "    except: # if the code encounters any other error\n",
    "        print(\"An error has occurred\")\n",
    "    else: # if the code does not encounter an error\n",
    "        print(f\"Okay, no rules were violated: the answer is {ans}\")\n",
    "    finally: # regardless of result\n",
    "        print(f\"({type(number1)} {number1}, {type(number2)} {number2})\")\n",
    "        print()\n",
    "\n",
    "try_division(2, 0)\n",
    "try_division(2, \"two\")\n",
    "try_division(2, 2)"
   ]
  },
  {
   "cell_type": "markdown",
   "metadata": {},
   "source": [
    "> You might notice that we used a cool trick to format our printed messages:\\\n",
    "> You can add variables to your print commands by adding the 'f' character inside the method call !\n",
    "```py\n",
    ">>> print(f\"This print statement contains {(int)(9 / 9 + 1 - 1)} variable inside curly brackets !\")\n",
    "This print statement contains 1 variable inside curly brackets !\n",
    "```"
   ]
  },
  {
   "cell_type": "markdown",
   "metadata": {},
   "source": [
    "> Another cool trick here: if we didn't use (int) to cast our result from a float into an int, our sentence would have read \"... contains 1.0 variable ...\" which would have been weird.\n",
    "\n",
    "You can also use the `assert` keyword to make sanity checks in order to test your Python code:"
   ]
  },
  {
   "cell_type": "code",
   "execution_count": null,
   "metadata": {},
   "outputs": [],
   "source": [
    "assert 1 == 1, \"one is not equal to one...\" ## this assert will pass because 1 == 1\n",
    "assert 1 == 2, \"one is not equal to two...\" ## this will raise an AssertionError because 1 != 2"
   ]
  },
  {
   "cell_type": "code",
   "execution_count": null,
   "metadata": {},
   "outputs": [],
   "source": [
    "def signUp(username):\n",
    "    if username == \"PoCInnovation\":\n",
    "        raise Exception(f\"{username} is already taken\")\n",
    "    print(f\"Welcome, {username} !\")\n",
    "\n",
    "signUp(\"PoCCommunity\")\n",
    "signUp(\"PoCInnovation\")"
   ]
  },
  {
   "cell_type": "markdown",
   "metadata": {},
   "source": [
    "## Practice: Custom Exception\n",
    "\n",
    "Let's put all of this into practice: you've learned about class inheritance and exceptions... what if you made your own custom exception by **inheriting** the Exception class ?\n",
    "\n",
    "This is the output you should receive:\n",
    "\n",
    "```\n",
    "----> 8 raise MyException(\"This is my custom Exception\")\n",
    "MyException: This is my custom Exception\n",
    "```"
   ]
  },
  {
   "cell_type": "code",
   "execution_count": null,
   "metadata": {},
   "outputs": [],
   "source": [
    "# Enter your code here\n",
    "\n",
    "#"
   ]
  },
  {
   "cell_type": "markdown",
   "metadata": {},
   "source": [
    "## Reading from a file\n",
    "\n",
    "Although there are awesome libraries in python for data reading, like **Pandas**, we will be doing it the old fashioned way for just a little bit longer ! But don't worry, later today, you will start using the most popular tools in artifcial intelligence for data analysis !\n",
    "\n",
    "### `with` keyword\n",
    "\n",
    "In python the with keyword is used when working with unmanaged resources (like file streams).\\\n",
    "It is similar to the use statement in VB.NET and C#.\\\n",
    "It allows you to ensure that a resource is \"cleaned up\" when the code that uses it finishes running, even if exceptions are thrown. "
   ]
  },
  {
   "cell_type": "code",
   "execution_count": null,
   "metadata": {},
   "outputs": [],
   "source": [
    "with open('./data_types.txt', 'r') as f:\n",
    "    data = f.read() ### read() will read all the content inside the file\n",
    "\n",
    "data"
   ]
  },
  {
   "cell_type": "code",
   "execution_count": null,
   "metadata": {},
   "outputs": [],
   "source": [
    "with open('./data_types.txt', 'r') as f:\n",
    "    lines = f.readlines() ## readlines() will read the file line by line and return a list of each line\n",
    "\n",
    "lines"
   ]
  },
  {
   "cell_type": "markdown",
   "metadata": {},
   "source": [
    "## Practice: Auto correction\n",
    "\n",
    "Today's first assignment was to fill the data types for each of the following values:\n",
    "\n",
    "```\n",
    "1\n",
    "\"hello world\"\n",
    "1.0\n",
    "[\"apples\", \"oranges\", \"bananas\"]\n",
    "{\"answer\": 42}\n",
    "2 + 2 == 4\n",
    "None\n",
    "```\n",
    "\n",
    "inside a file called 'data_types.txt'\n",
    "\n",
    "With everything you've learned, we want you to verify if you've done your own assignment properly !\n",
    "\n",
    "What is required:\n",
    "\n",
    "- create a collection of your choice which will contain the required values listed above\n",
    "- loop through the values and create a new dictionary with their `type()` as value\n",
    "- open your own 'data_types.txt' file and see if the contents match with the dictionary\n",
    "- use error handling methods like exceptions or asserts to verify if your 'data_types.txt' file's content is correct\n",
    "\n",
    "**Example:**\n",
    "\n",
    "If your dictionary contains : {1: 'int'} and the 'data_types.txt' file doesn't read `int` as it's first line, an error must occur !"
   ]
  },
  {
   "cell_type": "code",
   "execution_count": null,
   "metadata": {},
   "outputs": [],
   "source": [
    "# Write your code inside this cell\n",
    "# The only requirement is that a method called verify_data_types() exists\n",
    "# Feel free to make any other changes\n",
    "\n",
    "filename = './data_types.txt'\n",
    "\n",
    "def verify_data_types(filename):\n",
    "    pass"
   ]
  },
  {
   "attachments": {},
   "cell_type": "markdown",
   "metadata": {},
   "source": [
    "## Writing to a file (and using libraries)\n",
    "\n",
    "You now have a nice dictionary with each value and its type.\n",
    "\n",
    "The way we filled in the values inside 'data_types.txt' is kind of ugly...\n",
    "\n",
    "In data science, a file extension that is commonly used is '.csv'.\n",
    "\n",
    "A '.csv' file is formatted as follows:\n",
    "\n",
    "```\n",
    "column_a, column_b\n",
    "index1_a, index2_b\n",
    "index2_a, index2_b\n",
    "```\n",
    "\n",
    "In our case, it would look like:\n",
    "\n",
    "```\n",
    "value, data type\n",
    "1, int\n",
    "\"hello world\", str\n",
    "```\n",
    "\n",
    "For the last assignment in this first notebook, we will ask you to please fill in a file called 'data_types.csv' the rest of the values in the **csv** format.\n",
    "\n",
    "> You will need to use `with open('./data_types.csv', 'w') as f:` because you are **w**riting to a file, not **r**eading.\n",
    "\n",
    "In order to make things easier for you, there is a library called `csv`, which, as the name suggests, provides various methods and Classes which are useful for managing csv files in python !\n",
    "\n",
    "To import `csv` (and any other package in python), you simply need to run the following cell:"
   ]
  },
  {
   "cell_type": "code",
   "execution_count": null,
   "metadata": {},
   "outputs": [],
   "source": [
    "import csv"
   ]
  },
  {
   "cell_type": "markdown",
   "metadata": {},
   "source": [
    "Now, you have access to any method or class defined inside `csv` by calling it with `csv.[methodName]()`\n",
    "\n",
    "If your IDE supports it, you can also start typing `csv.` and the autocomplete might have some suggestions for you.\\\n",
    "If not, check out the [official documentation](https://docs.python.org/3/library/csv.html)."
   ]
  },
  {
   "cell_type": "code",
   "execution_count": null,
   "metadata": {},
   "outputs": [],
   "source": [
    "## Enter your code here\n",
    "\n",
    "\n",
    "\n",
    "##"
   ]
  },
  {
   "cell_type": "markdown",
   "metadata": {},
   "source": [
    "### Great job ! You now master the basics of the python language ! 🥳\n",
    "\n",
    "You can now start using external packages which will prove very useful for data science and machine learning in general !"
   ]
  }
 ],
 "metadata": {
  "kernelspec": {
   "display_name": "Python 3",
   "language": "python",
   "name": "python3"
  },
  "language_info": {
   "codemirror_mode": {
    "name": "ipython",
    "version": 3
   },
   "file_extension": ".py",
   "mimetype": "text/x-python",
   "name": "python",
   "nbconvert_exporter": "python",
   "pygments_lexer": "ipython3",
   "version": "3.10.6"
  },
  "orig_nbformat": 4,
  "vscode": {
   "interpreter": {
    "hash": "916dbcbb3f70747c44a77c7bcd40155683ae19c65e1c03b4aa3499c5328201f1"
   }
  }
 },
 "nbformat": 4,
 "nbformat_minor": 2
}
