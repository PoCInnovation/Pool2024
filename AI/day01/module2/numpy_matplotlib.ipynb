{
 "cells": [
  {
   "cell_type": "markdown",
   "source": [
    "# Numpy and Matplotlib\n",
    "\n",
    "Hello everyone, today we will see how to use Numpy and Matplotlib in order to make some graph and some matrix calculation.\n",
    "\n",
    "# Table of content\n",
    "\n",
    "1. [Numpy](#Numpy)\n",
    "2. [Matplotlib](#Matplotlib)\n",
    "\n",
    "#  Numpy\n",
    "\n",
    "Numpy is a library that allows us to make some matrix calculation and some graph. It's a very powerful library that is used in a lot of other library like Tensorflow, Pytorch, Scikit-learn, etc... For today, we will see how to use it in order to make some matrix calculation and some graph. It's one of the lib that is the most used in the world of data science and machine learning. Knowing how to use that lib is the first step to become a data scientist or a machine learning engineer :). So let's start by a bit of theory and then we will see how to use it.\n",
    "\n",
    "## What is a matrix?\n",
    "\n",
    "Matrix are table of elements, like numbers or characters. It's a very useful tool in mathematics and in computer science. It's used in a lot of domain like machine learning, data science, etc... It's a very powerful tool that allows us to make some calculation that we can't do with a simple number. It allowed us to make calculations in different dimension and can create link between them. So let's see how look a matrix like :\n",
    "![Matrix](../assets/Matrix.png)\n",
    "\n",
    "Here m and n are numbers who are numbers belonging of N (all number between 0 and infinity). The matrix is composed by m rows and n columns. Here each elements of the matrix are represented by a square. Now, we will learn how to create, manipulate and use matrix..."
   ],
   "metadata": {
    "collapsed": false
   },
   "id": "9a27aa8a0cef2c42"
  },
  {
   "cell_type": "code",
   "execution_count": null,
   "id": "initial_id",
   "metadata": {
    "collapsed": true
   },
   "outputs": [],
   "source": [
    "import numpy as np\n",
    "import matplotlib.pyplot as plt\n",
    "from sklearn.model_selection import train_test_split\n",
    "\n",
    "plt.style.use('seaborn-v0_8-whitegrid')\n",
    "import einops"
   ]
  },
  {
   "cell_type": "markdown",
   "source": [
    "## Matrix calculation\n",
    "\n",
    "Let's start by making some matrix calculation. First, we will see how to create a matrix and then we will see how to make some calculation with it."
   ],
   "metadata": {
    "collapsed": false
   },
   "id": "c8b32cd854161599"
  },
  {
   "cell_type": "code",
   "execution_count": null,
   "outputs": [],
   "source": [
    "# let's make a matrix filled by zeros in 2 dimention by using Numpy\n",
    "\n",
    "def create_two_dimention_matrix_zeros(size_dim1 : int, size_dim2 : int):\n",
    "    pass\n",
    "\n",
    "matrix_zeros = create_two_dimention_matrix_zeros(12, 90)\n",
    "assert (matrix_zeros.shape[0] == 12 and matrix_zeros.size == 1080 and matrix_zeros.max() == 0 and matrix_zeros.min() == 0), \"Not yet try again\"\n",
    "print(\"Well done!\")"
   ],
   "metadata": {
    "collapsed": false
   },
   "id": "98ddfc3989c1b40"
  },
  {
   "cell_type": "code",
   "execution_count": null,
   "outputs": [],
   "source": [
    "# let's create another one but this time filled by random value between 1 and 0\n",
    "\n",
    "def create_two_dimention_matrix_randoms(size_dim1 : int, size_dim2 : int):\n",
    "    pass\n",
    "\n",
    "matrix_random = create_two_dimention_matrix_randoms(5, 6)\n",
    "assert (matrix_random.shape[0] == 5 and matrix_random.size == 30 and matrix_random.max() <= 1.0 and matrix_random.min() >= 0.0), \"no no no, try again\"\n",
    "print(\"Continue like that!\")"
   ],
   "metadata": {
    "collapsed": false
   },
   "id": "fe3ee4040d9a8f8"
  },
  {
   "cell_type": "code",
   "execution_count": null,
   "outputs": [],
   "source": [
    "# let's now make some calcul with numpy, what do I mean with that it's that we have to add 1 at number of the random matrix \n",
    "\n",
    "def add_1(matrix):\n",
    "    pass"
   ],
   "metadata": {
    "collapsed": false
   },
   "id": "c08e4b4a42391d91"
  },
  {
   "cell_type": "markdown",
   "source": [
    "## Multiplication of matrix\n",
    "\n",
    "Now that we know how to create a matrix and how to make some calculation with it, let's see how to multiply 2 matrix. Be careful, it's not the same as multiplying 2 number... Goog luck! :)"
   ],
   "metadata": {
    "collapsed": false
   },
   "id": "85e51041c763e0f1"
  },
  {
   "cell_type": "code",
   "execution_count": null,
   "outputs": [],
   "source": [
    "# let's now add multiply 2 matrix together\n",
    "# I will let you also make the assertion that the matrix are able to be multiply together\n",
    "\n",
    "def multiply_matrix(matrix1, matrix2):\n",
    "    pass\n",
    "\n",
    "assert (multiply_matrix(matrix_random, matrix_zeros) == \"The matrix are not able to be multiply together\" and multiply_matrix(np.array([[1, 2]]), np.array([[2], [1]])) == np.array([4])), \"No no no, try again\""
   ],
   "metadata": {
    "collapsed": false
   },
   "id": "bbae764ca6fae5e7"
  },
  {
   "cell_type": "markdown",
   "source": [
    "## Averages calculation\n",
    "\n",
    "Now that we know how to multiply 2 matrix together, let's see how to calculate the average of each element of a matrix."
   ],
   "metadata": {
    "collapsed": false
   },
   "id": "d30e47c51695fa23"
  },
  {
   "cell_type": "code",
   "outputs": [],
   "source": [
    "# Calculate the average of each element of a matrix\n",
    "\n",
    "def calculate_average(matrix):\n",
    "    pass\n",
    "\n",
    "matrix = np.array([[1, 2, 3], [3, 3, 3], [7, 10, 13]])\n",
    "\n",
    "assert (calculate_average(np.array(matrix)) == 5.0), \"No no no, try again\"\n"
   ],
   "metadata": {
    "collapsed": false
   },
   "id": "70c83a2960c6fc2e",
   "execution_count": null
  },
  {
   "cell_type": "code",
   "outputs": [],
   "source": [
    "# Calculate the standart deviation of each element of a matrix\n",
    "\n",
    "def calculate_standart_deviation(matrix):\n",
    "    pass\n",
    "\n",
    "assert (calculate_standart_deviation(np.array(matrix)) == 3.858612300930075), \"No no no, try again\"\n"
   ],
   "metadata": {
    "collapsed": false
   },
   "id": "df9a43bd1218aa66",
   "execution_count": null
  },
  {
   "cell_type": "code",
   "outputs": [],
   "source": [
    "# Calculate the variance of each element of a matrix\n",
    "\n",
    "def calculate_variance(matrix):\n",
    "    pass\n",
    "\n",
    "assert (calculate_variance(np.array(matrix)) == 14.88888888888889), \"No no no, try again\"\n"
   ],
   "metadata": {
    "collapsed": false
   },
   "id": "de445a8efc627481",
   "execution_count": null
  },
  {
   "cell_type": "markdown",
   "source": [
    "## Matplotlib\n",
    "\n",
    "### Graph\n",
    "\n",
    "Now that we know how to make some matrix calculation, let's see how to make some graph with matplotlib. We will see how to make some simple graph in 2D and then we will see how to make some more complex graph in 3D.\n",
    "\n",
    "### show intersection between 2 function\n",
    "\n",
    "Let's start by something simple, we want to see the intersection between 2 function.\n",
    "\n",
    "So first, we will create 2 function, and then we will see how to show the intersection between them. the first function will be :\n",
    "\n",
    " $$ \\begin{equation*}\n",
    "    f(x) = sinh(x) / tan(x)\n",
    "   \\end{equation*} $$"
   ],
   "metadata": {
    "collapsed": false
   },
   "id": "382449e2d67aeb98"
  },
  {
   "cell_type": "code",
   "execution_count": null,
   "outputs": [],
   "source": [
    "def f(x):\n",
    "    pass\n",
    "\n",
    "assert (f(1) == 0.7545880086758965 and f(2) == -1.6598600642614152), \"No no no, try again\""
   ],
   "metadata": {
    "collapsed": false
   },
   "id": "1a6e16dac73f71e2"
  },
  {
   "cell_type": "markdown",
   "source": [
    "The second function will be a $$ \\begin{equation*}\n",
    "    g(x) = cosh(x) / \\sqrt {e^x}\n",
    "   \\end{equation*} $$"
   ],
   "metadata": {
    "collapsed": false
   },
   "id": "e2982d1bc79dac53"
  },
  {
   "cell_type": "code",
   "execution_count": null,
   "outputs": [],
   "source": [
    "def g(x):\n",
    "    pass\n",
    "\n",
    "assert (g(1) == 0.93592571542427898 and g(2) == 1.3840344484134546), \"No no no, try again\""
   ],
   "metadata": {
    "collapsed": false
   },
   "id": "189eddf89312a90f"
  },
  {
   "cell_type": "code",
   "execution_count": null,
   "outputs": [],
   "source": [
    "# Let's make a function that shows the intersection between 2 function\n",
    "\n",
    "def show_intersection(function1, function2, start, end):\n",
    "    x = np.linspace(start, end, 100)\n",
    "    ...\n",
    "    plt.show()\n",
    "\n",
    "show_intersection(f, g, -1, 1)"
   ],
   "metadata": {
    "collapsed": false
   },
   "id": "69b09d85b2348046"
  },
  {
   "cell_type": "markdown",
   "source": [
    "## 3D Graph\n",
    "Before that we create our first AI, let's discover how to make a 3D schem"
   ],
   "metadata": {
    "collapsed": false
   },
   "id": "ceb8512e51ed8142"
  },
  {
   "cell_type": "code",
   "outputs": [],
   "source": [
    "# Now let's try to make a cap in mathematics, so let's make a function that make 1/4 of a circle.\n",
    "\n",
    "def one_fourth_of_a_circle(r: float):\n",
    "    pass"
   ],
   "metadata": {
    "collapsed": false
   },
   "id": "d8ac5d540897cc7e",
   "execution_count": null
  },
  {
   "cell_type": "code",
   "execution_count": null,
   "outputs": [],
   "source": [
    "def show_2d(r: float = 1.0):\n",
    "    _, ax = plt.subplots(1)\n",
    "    \n",
    "    ...\n",
    "        \n",
    "    plt.xlim(0 ,1.25)\n",
    "    plt.ylim(0 ,1.25)\n",
    "\n",
    "show_2d()"
   ],
   "metadata": {
    "collapsed": false
   },
   "id": "76f637cb40c82eb0"
  },
  {
   "cell_type": "markdown",
   "source": [
    "That was easy!!!\n",
    "Now, let's try to put that line in a 3D space.\n",
    "(You can use again, your function one_fourth_of_a_circle) "
   ],
   "metadata": {
    "collapsed": false
   },
   "id": "723734dfab82523a"
  },
  {
   "cell_type": "code",
   "execution_count": null,
   "outputs": [],
   "source": [
    "def creat_a_cap_3d(r: float = 1.0):\n",
    "    pass\n",
    "\n",
    "creat_a_cap_3d()"
   ],
   "metadata": {
    "collapsed": false
   },
   "id": "6f2aa679e98b8e42"
  },
  {
   "cell_type": "markdown",
   "source": [
    "Now that you have the basis, now let's create our cap!!!\n",
    "\n",
    "A little tips, now, you have to adapt your first code to make it in 3d."
   ],
   "metadata": {
    "collapsed": false
   },
   "id": "88bf44a4fe1e07bb"
  },
  {
   "cell_type": "code",
   "execution_count": null,
   "outputs": [],
   "source": [
    "def create_arc_surface_3d(r: float = 1.0):\n",
    "    ...\n",
    "    x = ...\n",
    "    y = ...\n",
    "    z = ...\n",
    "    \n",
    "    fig = plt.figure()\n",
    "    ax = fig.add_subplot(111, projection='3d')\n",
    "    \n",
    "    ax.plot_surface(x, y, z, color='b', alpha=0.6)\n",
    "    ax.set_aspect('auto')\n",
    "    \n",
    "    plt.xlim(-1.25, 1.25)\n",
    "    plt.ylim(-1.25, 1.25)\n",
    "    \n",
    "    plt.show()\n",
    "\n",
    "create_arc_surface_3d()"
   ],
   "metadata": {
    "collapsed": false
   },
   "id": "d6ba4d32188dae47"
  }
 ],
 "metadata": {
  "kernelspec": {
   "display_name": "Python 3",
   "language": "python",
   "name": "python3"
  },
  "language_info": {
   "codemirror_mode": {
    "name": "ipython",
    "version": 2
   },
   "file_extension": ".py",
   "mimetype": "text/x-python",
   "name": "python",
   "nbconvert_exporter": "python",
   "pygments_lexer": "ipython2",
   "version": "2.7.6"
  }
 },
 "nbformat": 4,
 "nbformat_minor": 5
}
